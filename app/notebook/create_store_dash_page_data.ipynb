{
 "cells": [
  {
   "cell_type": "code",
   "execution_count": 15,
   "metadata": {
    "collapsed": true
   },
   "outputs": [],
   "source": [
    "import sys\n",
    "\n",
    "sys.path.append(\"..\")\n",
    "import os\n",
    "import pickle\n",
    "\n",
    "from lib.data_preparation.peaks_data import PeakExpedition\n",
    "from lib.data_preparation.member_data import MemberInfo\n"
   ]
  },
  {
   "cell_type": "markdown",
   "source": [
    "In order to be able to share data across the dash application, we will create and store the data required by the various pages that start out with peaks and expoeditions."
   ],
   "metadata": {
    "collapsed": false
   }
  },
  {
   "cell_type": "code",
   "execution_count": 16,
   "outputs": [],
   "source": [
    "peak_expedition = PeakExpedition(os.path.join('..', 'data', 'raw_data'), os.path.join('..', 'data', 'nhpp'))\n",
    "member_data = MemberInfo(data_path=os.path.join(\"..\", \"data\", \"raw_data\", \"members.csv\"))\n",
    "\n",
    "\n",
    "countries_list = member_data.get_members_nationalities()\n",
    "all_peaks_list = list(peak_expedition.peak_exped_df['PKNAME'].unique())\n"
   ],
   "metadata": {
    "collapsed": false
   }
  },
  {
   "cell_type": "code",
   "execution_count": 21,
   "outputs": [],
   "source": [
    "#Save these dataframes\n",
    "members_counts_df, members_norm_df = member_data.get_members_parallel_coord_data()\n",
    "\n",
    "commerce_noncommerce_by_year_df, commerce_peaks_list = peak_expedition.create_commerce_noncommerce_peak_aggregation(\n",
    "    by_season=False)\n",
    "\n",
    "peak_exped_df = peak_expedition.peak_exped_df\n",
    "\n",
    "peak_routes_df = peak_expedition.peak_routes_df\n",
    "\n",
    "peak_expedition_by_year_season_df = peak_expedition.create_peak_aggregation()\n",
    "\n",
    "exped_commercial_type_df = peak_expedition.exped_commercial_type_df\n",
    "\n"
   ],
   "metadata": {
    "collapsed": false
   }
  },
  {
   "cell_type": "code",
   "execution_count": 22,
   "outputs": [],
   "source": [
    "countries_list = member_data.get_members_nationalities()\n",
    "\n",
    "lists_dict = {'countries_list': countries_list,\n",
    "              'all_peaks_list': all_peaks_list,\n",
    "              'commerce_peaks_list': commerce_peaks_list\n",
    "              }\n",
    "#Store the list of countries in a small pickle file\n",
    "with open(os.path.join(\"..\", \"data\", \"dash\",  \"store_data_lists.pickle\"), 'wb') as handle:\n",
    "    pickle.dump(lists_dict, handle)"
   ],
   "metadata": {
    "collapsed": false
   }
  },
  {
   "cell_type": "code",
   "execution_count": 24,
   "outputs": [],
   "source": [
    "peak_expedition_by_year_season_df.to_csv(os.path.join(\"..\", \"data\", \"dash\", 'peak_expedition_by_year_season_df.csv'), index=False)\n",
    "peak_routes_df.to_csv(os.path.join(\"..\", \"data\", \"dash\", 'peak_routes_df.csv'), index = False)\n",
    "peak_exped_df.to_csv(os.path.join(\"..\", \"data\", \"dash\", 'peak_exped_df.csv'), index = False)\n",
    "commerce_noncommerce_by_year_df.to_csv(os.path.join(\"..\", \"data\", \"dash\", 'commerce_noncommerce_by_year_df.csv'), index = False)\n",
    "exped_commercial_type_df.to_csv(os.path.join(\"..\", \"data\", \"dash\", 'exped_commercial_type_df.csv'), index=False)\n"
   ],
   "metadata": {
    "collapsed": false
   }
  },
  {
   "cell_type": "code",
   "execution_count": 20,
   "outputs": [],
   "source": [],
   "metadata": {
    "collapsed": false
   }
  }
 ],
 "metadata": {
  "kernelspec": {
   "display_name": "Python 3",
   "language": "python",
   "name": "python3"
  },
  "language_info": {
   "codemirror_mode": {
    "name": "ipython",
    "version": 2
   },
   "file_extension": ".py",
   "mimetype": "text/x-python",
   "name": "python",
   "nbconvert_exporter": "python",
   "pygments_lexer": "ipython2",
   "version": "2.7.6"
  }
 },
 "nbformat": 4,
 "nbformat_minor": 0
}
